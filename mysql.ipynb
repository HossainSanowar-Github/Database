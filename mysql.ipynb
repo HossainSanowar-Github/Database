{
 "cells": [
  {
   "cell_type": "markdown",
   "id": "9db1d84e",
   "metadata": {},
   "source": [
    "# MySQL \n",
    "* Install connector: !pip install mysql-connector-python\n",
    "* https://archive.ics.uci.edu/ml/machine-learning-databases/glass/\n",
    "* https://dev.mysql.com/doc/connector-python/en/connector-python-example-connecting.html\n",
    "* !pip install mysql-connector-python"
   ]
  },
  {
   "cell_type": "markdown",
   "id": "a4bb3079",
   "metadata": {},
   "source": [
    "# Command List:\n",
    "* import mysql.connector as conn\n",
    "* mydb=conn.connect()\n",
    "* mydb.commit()#change updated in MySQL database \n",
    "* cursor=mydb.cursor()#pointer\n",
    "* cursor.fetchall()# show query result in tuple\n",
    "* cursor.execute()#all MySQL code execute through python\n",
    "* cursor.execute('show databases')#show \n",
    "* create table database_name.table_name(student_id INT(10),first_name VARCHAR(30))\n",
    "* INSERT into database_name.table_name values(int, float str information)\n",
    "* DELETE from student_database.basic_data WHERE student_id=1\n",
    "* "
   ]
  },
  {
   "cell_type": "markdown",
   "id": "30826533",
   "metadata": {},
   "source": [
    "# Connecting to MySQL Using Connector/Python\n",
    "* Establish communication system between sql and python"
   ]
  },
  {
   "cell_type": "code",
   "execution_count": 1,
   "id": "40bae83f",
   "metadata": {},
   "outputs": [],
   "source": [
    "import mysql.connector as conn"
   ]
  },
  {
   "cell_type": "code",
   "execution_count": 2,
   "id": "c874155e",
   "metadata": {},
   "outputs": [],
   "source": [
    "mydb=conn.connect(host='localhost',\n",
    "                 user='root',\n",
    "                 passwd='root@1234')"
   ]
  },
  {
   "cell_type": "code",
   "execution_count": 3,
   "id": "f88b47ba",
   "metadata": {},
   "outputs": [
    {
     "data": {
      "text/plain": [
       "<mysql.connector.connection.MySQLConnection at 0x104032e50>"
      ]
     },
     "execution_count": 3,
     "metadata": {},
     "output_type": "execute_result"
    }
   ],
   "source": [
    "mydb"
   ]
  },
  {
   "cell_type": "markdown",
   "id": "de86278e",
   "metadata": {},
   "source": [
    "#### cursor is a row-by-row processing; this is called pointer"
   ]
  },
  {
   "cell_type": "code",
   "execution_count": 4,
   "id": "f337bc90",
   "metadata": {},
   "outputs": [
    {
     "data": {
      "text/plain": [
       "[('information_schema',),\n",
       " ('machine',),\n",
       " ('mysql',),\n",
       " ('performance_schema',),\n",
       " ('sales',),\n",
       " ('student_database',),\n",
       " ('sys',)]"
      ]
     },
     "execution_count": 4,
     "metadata": {},
     "output_type": "execute_result"
    }
   ],
   "source": [
    "cursor=mydb.cursor()\n",
    "cursor.execute('show databases')\n",
    "cursor.fetchall()"
   ]
  },
  {
   "cell_type": "markdown",
   "id": "4180dec4",
   "metadata": {},
   "source": [
    "# Creating Tables Using Connector/Python\n",
    "* create database name: student_database"
   ]
  },
  {
   "cell_type": "code",
   "execution_count": 6,
   "id": "fccaddb3",
   "metadata": {},
   "outputs": [
    {
     "name": "stdout",
     "output_type": "stream",
     "text": [
      "1007 (HY000): Can't create database 'student_database'; database exists\n"
     ]
    }
   ],
   "source": [
    "try:\n",
    "    cursor.execute('create database student_database')\n",
    "except Exception as e:\n",
    "    print(e)"
   ]
  },
  {
   "cell_type": "markdown",
   "id": "59dc0d43",
   "metadata": {},
   "source": [
    "### Create table: \n",
    "* create table database_name.table_name('')"
   ]
  },
  {
   "cell_type": "code",
   "execution_count": 9,
   "id": "04d0f9a3",
   "metadata": {},
   "outputs": [],
   "source": [
    "cursor.execute('create table student_database.basic_data(student_id INT(10),first_name VARCHAR(30),last_name VARCHAR(30),reg_id INT(10),class_name VARCHAR(30))')"
   ]
  },
  {
   "cell_type": "markdown",
   "id": "8c2851c3",
   "metadata": {},
   "source": [
    "### show database and table"
   ]
  },
  {
   "cell_type": "code",
   "execution_count": 15,
   "id": "ad24da42",
   "metadata": {},
   "outputs": [
    {
     "data": {
      "text/plain": [
       "[('basic_data',)]"
      ]
     },
     "execution_count": 15,
     "metadata": {},
     "output_type": "execute_result"
    }
   ],
   "source": [
    "#cursor.execute('use student_database')\n",
    "#cursor.execute('show tables')\n",
    "cursor.fetchall()"
   ]
  },
  {
   "cell_type": "markdown",
   "id": "19c026c1",
   "metadata": {},
   "source": [
    "### Data entry inside Table\n",
    "* insert data into table\n",
    "* insert into database_name.table_name values(data information)"
   ]
  },
  {
   "cell_type": "code",
   "execution_count": 46,
   "id": "9171da72",
   "metadata": {},
   "outputs": [],
   "source": [
    "cursor.execute(\"insert into student_database.basic_data values(1,'Rahim','Hossain',1,'FSDS')\")"
   ]
  },
  {
   "cell_type": "code",
   "execution_count": 48,
   "id": "a5098e80",
   "metadata": {},
   "outputs": [],
   "source": [
    "cursor.execute(\"select * from student_database.basic_data\")"
   ]
  },
  {
   "cell_type": "code",
   "execution_count": 49,
   "id": "a1f9a80f",
   "metadata": {},
   "outputs": [
    {
     "data": {
      "text/plain": [
       "[(1, 'Rahim', 'Hossain', 1, 'FSDS'),\n",
       " (1, 'Rahim', 'Hossain', 1, 'FSDS'),\n",
       " (1, 'Rahim', 'Hossain', 1, 'FSDS'),\n",
       " (1, 'Rahim', 'Hossain', 1, 'FSDS'),\n",
       " (1, 'Rahim', 'Hossain', 1, 'FSDS'),\n",
       " (1, 'Rahim', 'Hossain', 1, 'FSDS'),\n",
       " (1, 'Rahim', 'Hossain', 1, 'FSDS')]"
      ]
     },
     "execution_count": 49,
     "metadata": {},
     "output_type": "execute_result"
    }
   ],
   "source": [
    "cursor.fetchall()"
   ]
  },
  {
   "cell_type": "markdown",
   "id": "dc084d72",
   "metadata": {},
   "source": [
    "#### Delete data from table"
   ]
  },
  {
   "cell_type": "code",
   "execution_count": 61,
   "id": "3b1f0345",
   "metadata": {},
   "outputs": [],
   "source": [
    "cursor.execute(\"DELETE from student_database.basic_data WHERE student_id=1\")"
   ]
  },
  {
   "cell_type": "code",
   "execution_count": 62,
   "id": "2b351ea2",
   "metadata": {},
   "outputs": [],
   "source": [
    "mydb.commit()"
   ]
  },
  {
   "cell_type": "markdown",
   "id": "ab022ce1",
   "metadata": {},
   "source": [
    "# Create Glassdata database\n",
    "* https://archive.ics.uci.edu/ml/machine-learning-databases/glass/"
   ]
  },
  {
   "cell_type": "code",
   "execution_count": null,
   "id": "fcfbd0b8",
   "metadata": {},
   "outputs": [],
   "source": [
    "cursor.execute('create table machine.glassdata(col1 INT(10),col2 float(10,5),col3 float(10,5),col4 float(10,5),col5 float(10,5),col6 float(10,5),col7 float(10,5),col8 float(10,5),col9 float(10,5),col0 float(10,5),col11 INT(10))')"
   ]
  },
  {
   "cell_type": "code",
   "execution_count": null,
   "id": "c74b467e",
   "metadata": {},
   "outputs": [],
   "source": [
    "cursor.execute('use machine')"
   ]
  },
  {
   "cell_type": "code",
   "execution_count": null,
   "id": "264d33da",
   "metadata": {},
   "outputs": [],
   "source": [
    "cursor.execute('show tables')"
   ]
  },
  {
   "cell_type": "code",
   "execution_count": null,
   "id": "97e6aaa7",
   "metadata": {},
   "outputs": [],
   "source": [
    "cursor.fetchall()"
   ]
  },
  {
   "cell_type": "code",
   "execution_count": null,
   "id": "c677db31",
   "metadata": {},
   "outputs": [],
   "source": [
    "ls"
   ]
  },
  {
   "cell_type": "code",
   "execution_count": null,
   "id": "70eee6ee",
   "metadata": {},
   "outputs": [],
   "source": [
    "file=open(\"glass.data\",'r')"
   ]
  },
  {
   "cell_type": "code",
   "execution_count": null,
   "id": "1ce27417",
   "metadata": {},
   "outputs": [],
   "source": [
    "file.read()"
   ]
  },
  {
   "cell_type": "code",
   "execution_count": null,
   "id": "ac875a62",
   "metadata": {},
   "outputs": [],
   "source": [
    "import csv\n",
    "with open(\"glass.data\",'r') as f:\n",
    "    glass_data=csv.reader(f,delimiter='\\n')\n",
    "    #print(glass_data)\n",
    "    for i in glass_data:\n",
    "        print(i)"
   ]
  },
  {
   "cell_type": "code",
   "execution_count": null,
   "id": "062526f3",
   "metadata": {},
   "outputs": [],
   "source": [
    "#cursor.execute('create table machine.glassdata(col1 INT(10),col2 float(10,5),col3 float(10,5),col4 float(10,5),col5 float(10,5),col6 float(10,5),col7 float(10,5),col8 float(10,5),col9 float(10,5),col0 float(10,5),col11 INT(10))')\n",
    "# insert data into table\n",
    "cursor.execute('insert into machine.glassdata values(1,1.52101,13.64,4.49,1.10,71.78,0.06,8.75,0.00,0.00,1)')"
   ]
  },
  {
   "cell_type": "code",
   "execution_count": null,
   "id": "16f0796b",
   "metadata": {},
   "outputs": [],
   "source": [
    "mydb.commit()\n",
    "cursor.execute('select * from machine.glassdata')"
   ]
  },
  {
   "cell_type": "code",
   "execution_count": null,
   "id": "ed7e24df",
   "metadata": {},
   "outputs": [],
   "source": [
    "cursor.fetchall()"
   ]
  },
  {
   "cell_type": "code",
   "execution_count": null,
   "id": "27cced74",
   "metadata": {},
   "outputs": [],
   "source": [
    "with open(\"glass.data\",'r') as f:\n",
    "    glass_data=csv.reader(f,delimiter='\\n')\n",
    "    #print(glass_data)\n",
    "    for i in glass_data:\n",
    "        print(i[0])"
   ]
  },
  {
   "cell_type": "code",
   "execution_count": null,
   "id": "4a855dcd",
   "metadata": {},
   "outputs": [],
   "source": [
    "with open(\"glass.data\",'r') as f:\n",
    "    glass_data=csv.reader(f,delimiter='\\n')\n",
    "    #print(glass_data)\n",
    "    for i in glass_data:\n",
    "        print(i)\n",
    "        print(f'insert into glassdata values({str(i[0])})')\n",
    "        cursor.execute(f'insert into glassdata values({str(i[0])})')\n",
    "mydb.commit()"
   ]
  },
  {
   "cell_type": "code",
   "execution_count": null,
   "id": "7f33c707",
   "metadata": {},
   "outputs": [],
   "source": [
    "with open(\"glass.data\",'r') as f:\n",
    "    glass_data=csv.reader(f,delimiter='\\n')\n",
    "    #print(glass_data)\n",
    "    for i in glass_data:\n",
    "        type(print(i[0]))\n",
    "        print(f'insert into glassdata values({str(i[0])})')\n",
    "        cursor.execute('insert into glassdata values({values})'.format(values=((i[0]))))\n",
    "mydb.commit()"
   ]
  },
  {
   "cell_type": "code",
   "execution_count": null,
   "id": "d4cc1d18",
   "metadata": {},
   "outputs": [],
   "source": [
    "mydb.commit()"
   ]
  },
  {
   "cell_type": "code",
   "execution_count": null,
   "id": "5a2e58b9",
   "metadata": {},
   "outputs": [],
   "source": [
    "import pandas as pd"
   ]
  },
  {
   "cell_type": "code",
   "execution_count": null,
   "id": "6e4c3fe1",
   "metadata": {},
   "outputs": [],
   "source": [
    "pd.read_sql(\"select * from machine.glassdata\",mydb)"
   ]
  },
  {
   "cell_type": "code",
   "execution_count": null,
   "id": "ef1f9074",
   "metadata": {},
   "outputs": [],
   "source": [
    "pd.read_sql(\"show databases\",mydb)"
   ]
  },
  {
   "cell_type": "code",
   "execution_count": null,
   "id": "c47ed1ea",
   "metadata": {},
   "outputs": [],
   "source": [
    "#deletion table"
   ]
  },
  {
   "cell_type": "code",
   "execution_count": null,
   "id": "835906eb",
   "metadata": {},
   "outputs": [],
   "source": []
  }
 ],
 "metadata": {
  "kernelspec": {
   "display_name": "Python 3 (ipykernel)",
   "language": "python",
   "name": "python3"
  },
  "language_info": {
   "codemirror_mode": {
    "name": "ipython",
    "version": 3
   },
   "file_extension": ".py",
   "mimetype": "text/x-python",
   "name": "python",
   "nbconvert_exporter": "python",
   "pygments_lexer": "ipython3",
   "version": "3.9.7"
  }
 },
 "nbformat": 4,
 "nbformat_minor": 5
}
